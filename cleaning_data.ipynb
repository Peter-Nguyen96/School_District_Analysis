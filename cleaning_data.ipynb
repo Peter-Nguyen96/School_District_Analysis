{
 "cells": [
  {
   "cell_type": "code",
   "execution_count": 1,
   "id": "8571d313",
   "metadata": {},
   "outputs": [
    {
     "data": {
      "text/plain": [
       "Student ID       8\n",
       "student_name     8\n",
       "gender           8\n",
       "grade            8\n",
       "reading_score    7\n",
       "math_score       7\n",
       "dtype: int64"
      ]
     },
     "execution_count": 1,
     "metadata": {},
     "output_type": "execute_result"
    }
   ],
   "source": [
    "# Missing Data Handelling\n",
    "\n",
    "import os\n",
    "import pandas as pd\n",
    "\n",
    "schools_data = os.path.join(\"Resources\", \"schools_complete.csv\")\n",
    "students_data = os.path.join(\"Resources\", \"students_complete.csv\")\n",
    "missing_data = os.path.join(\"Resources\", \"missing_grades.csv\")\n",
    "\n",
    "schools_df = pd.read_csv(schools_data)\n",
    "students_df = pd.read_csv(students_data)\n",
    "missing_df = pd.read_csv(missing_data)\n",
    "\n",
    "# find missing data\n",
    "# reading score and math score missing 1\n",
    "missing_df.count()\n"
   ]
  },
  {
   "cell_type": "code",
   "execution_count": 4,
   "id": "77cbb427",
   "metadata": {},
   "outputs": [
    {
     "data": {
      "text/plain": [
       "dtype('int64')"
      ]
     },
     "execution_count": 4,
     "metadata": {},
     "output_type": "execute_result"
    }
   ],
   "source": [
    "# Missing Data Handelling\n",
    "\n",
    "import os\n",
    "import pandas as pd\n",
    "\n",
    "schools_data = os.path.join(\"Resources\", \"schools_complete.csv\")\n",
    "students_data = os.path.join(\"Resources\", \"students_complete.csv\")\n",
    "missing_data = os.path.join(\"Resources\", \"missing_grades.csv\")\n",
    "\n",
    "schools_df = pd.read_csv(schools_data)\n",
    "students_df = pd.read_csv(students_data)\n",
    "missing_df = pd.read_csv(missing_data)\n",
    "\n",
    "# determining data types\n",
    "schools_df.dtypes\n",
    "\n",
    "# for one column\n",
    "schools_df[\"budget\"].dtypes"
   ]
  },
  {
   "cell_type": "code",
   "execution_count": null,
   "id": "950df2a9",
   "metadata": {},
   "outputs": [],
   "source": [
    "# Missing Data Handelling\n",
    "\n",
    "import os\n",
    "import pandas as pd\n",
    "\n",
    "schools_data = os.path.join(\"Resources\", \"schools_complete.csv\")\n",
    "students_data = os.path.join(\"Resources\", \"students_complete.csv\")\n",
    "missing_data = os.path.join(\"Resources\", \"missing_grades.csv\")\n",
    "\n",
    "schools_df = pd.read_csv(schools_data)\n",
    "students_df = pd.read_csv(students_data)\n",
    "missing_df = pd.read_csv(missing_data)\n",
    "\n"
   ]
  }
 ],
 "metadata": {
  "kernelspec": {
   "display_name": "PythonData",
   "language": "python",
   "name": "pythondata"
  },
  "language_info": {
   "codemirror_mode": {
    "name": "ipython",
    "version": 3
   },
   "file_extension": ".py",
   "mimetype": "text/x-python",
   "name": "python",
   "nbconvert_exporter": "python",
   "pygments_lexer": "ipython3",
   "version": "3.7.13"
  }
 },
 "nbformat": 4,
 "nbformat_minor": 5
}
