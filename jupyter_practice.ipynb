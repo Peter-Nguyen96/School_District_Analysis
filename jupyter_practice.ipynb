{
 "cells": [
  {
   "cell_type": "code",
   "execution_count": 2,
   "id": "f7b95eb3",
   "metadata": {},
   "outputs": [
    {
     "name": "stdout",
     "output_type": "stream",
     "text": [
      "Hernandez High School\n",
      "Figueroa High School\n",
      "Wilson High School\n",
      "Wright High School\n"
     ]
    }
   ],
   "source": [
    "# Print a list\n",
    "\n",
    "high_schools = [\"Hernandez High School\", \"Figueroa High School\",\"Wilson High School\",\"Wright High School\"]\n",
    "for schools in high_schools:\n",
    "    print(schools)"
   ]
  },
  {
   "cell_type": "code",
   "execution_count": 3,
   "id": "1715722b",
   "metadata": {},
   "outputs": [],
   "source": [
    "# Create a dictionary\n",
    "\n",
    "high_school_types = [{\"School ID\":0,\"High School\": \"Griffin\", \"Type\":\"District\"}, {\"School ID\":1,\"High School\":\"Figueroa\", \"Type\":\"District\"}, {\"School ID\":2,\"High School\":\"Wilson\", \"Type\":\"Charter\"}, {\"School ID\":3,\"High School\":\"Wright\", \"Type\":\"Charter\"}]\n"
   ]
  },
  {
   "cell_type": "code",
   "execution_count": 10,
   "id": "2244410e",
   "metadata": {},
   "outputs": [
    {
     "name": "stdout",
     "output_type": "stream",
     "text": [
      "Hernandez High School\n",
      "Figueroa High School\n",
      "Wilson High School\n",
      "Wright High School\n"
     ]
    }
   ],
   "source": [
    "# Print a list using a for loop\n",
    "\n",
    "import pandas as pd\n",
    "school_series = pd.Series(high_schools)\n",
    "for index in school_series:\n",
    "    print(index)"
   ]
  },
  {
   "cell_type": "code",
   "execution_count": 14,
   "id": "c2b7cb4a",
   "metadata": {},
   "outputs": [
    {
     "data": {
      "text/html": [
       "<div>\n",
       "<style scoped>\n",
       "    .dataframe tbody tr th:only-of-type {\n",
       "        vertical-align: middle;\n",
       "    }\n",
       "\n",
       "    .dataframe tbody tr th {\n",
       "        vertical-align: top;\n",
       "    }\n",
       "\n",
       "    .dataframe thead th {\n",
       "        text-align: right;\n",
       "    }\n",
       "</style>\n",
       "<table border=\"1\" class=\"dataframe\">\n",
       "  <thead>\n",
       "    <tr style=\"text-align: right;\">\n",
       "      <th></th>\n",
       "      <th>School ID</th>\n",
       "      <th>High School</th>\n",
       "      <th>Type</th>\n",
       "    </tr>\n",
       "  </thead>\n",
       "  <tbody>\n",
       "    <tr>\n",
       "      <th>0</th>\n",
       "      <td>0</td>\n",
       "      <td>Griffin</td>\n",
       "      <td>District</td>\n",
       "    </tr>\n",
       "    <tr>\n",
       "      <th>1</th>\n",
       "      <td>1</td>\n",
       "      <td>Figueroa</td>\n",
       "      <td>District</td>\n",
       "    </tr>\n",
       "    <tr>\n",
       "      <th>2</th>\n",
       "      <td>2</td>\n",
       "      <td>Wilson</td>\n",
       "      <td>Charter</td>\n",
       "    </tr>\n",
       "    <tr>\n",
       "      <th>3</th>\n",
       "      <td>3</td>\n",
       "      <td>Wright</td>\n",
       "      <td>Charter</td>\n",
       "    </tr>\n",
       "  </tbody>\n",
       "</table>\n",
       "</div>"
      ],
      "text/plain": [
       "   School ID High School      Type\n",
       "0          0     Griffin  District\n",
       "1          1    Figueroa  District\n",
       "2          2      Wilson   Charter\n",
       "3          3      Wright   Charter"
      ]
     },
     "execution_count": 14,
     "metadata": {},
     "output_type": "execute_result"
    }
   ],
   "source": [
    "# output a dataframe\n",
    "\n",
    "high_school_types = [{\"School ID\":0,\"High School\": \"Griffin\", \"Type\":\"District\"}, {\"School ID\":1,\"High School\":\"Figueroa\", \"Type\":\"District\"}, {\"School ID\":2,\"High School\":\"Wilson\", \"Type\":\"Charter\"}, {\"School ID\":3,\"High School\":\"Wright\", \"Type\":\"Charter\"}]\n",
    "\n",
    "schools_dataframe = pd.DataFrame(high_school_types)\n",
    "schools_dataframe"
   ]
  },
  {
   "cell_type": "code",
   "execution_count": null,
   "id": "bde072d6",
   "metadata": {},
   "outputs": [],
   "source": [
    "# GOALS\n",
    "# High level snapshot of districts key metrics presented in table format\n",
    "# Overview of key metrics for each school presented in table format\n",
    "# Tables of each: \n",
    "    # Top 5 and bottom 5 performing schools bsed on overall passing rate\n",
    "    # Average math score recieved by students in each grade level at each school\n",
    "    # Average reading score recieved by students in each grade level at each school\n",
    "    # School performance based on budget per student\n",
    "    # School performance based on school size\n",
    "    # School performance based on type of school"
   ]
  },
  {
   "cell_type": "code",
   "execution_count": 17,
   "id": "86da1da0",
   "metadata": {},
   "outputs": [
    {
     "data": {
      "text/html": [
       "<div>\n",
       "<style scoped>\n",
       "    .dataframe tbody tr th:only-of-type {\n",
       "        vertical-align: middle;\n",
       "    }\n",
       "\n",
       "    .dataframe tbody tr th {\n",
       "        vertical-align: top;\n",
       "    }\n",
       "\n",
       "    .dataframe thead th {\n",
       "        text-align: right;\n",
       "    }\n",
       "</style>\n",
       "<table border=\"1\" class=\"dataframe\">\n",
       "  <thead>\n",
       "    <tr style=\"text-align: right;\">\n",
       "      <th></th>\n",
       "      <th>School ID</th>\n",
       "      <th>school_name</th>\n",
       "      <th>type</th>\n",
       "      <th>size</th>\n",
       "      <th>budget</th>\n",
       "    </tr>\n",
       "  </thead>\n",
       "  <tbody>\n",
       "    <tr>\n",
       "      <th>0</th>\n",
       "      <td>0</td>\n",
       "      <td>Huang High School</td>\n",
       "      <td>District</td>\n",
       "      <td>2917</td>\n",
       "      <td>1910635</td>\n",
       "    </tr>\n",
       "    <tr>\n",
       "      <th>1</th>\n",
       "      <td>1</td>\n",
       "      <td>Figueroa High School</td>\n",
       "      <td>District</td>\n",
       "      <td>2949</td>\n",
       "      <td>1884411</td>\n",
       "    </tr>\n",
       "    <tr>\n",
       "      <th>2</th>\n",
       "      <td>2</td>\n",
       "      <td>Shelton High School</td>\n",
       "      <td>Charter</td>\n",
       "      <td>1761</td>\n",
       "      <td>1056600</td>\n",
       "    </tr>\n",
       "    <tr>\n",
       "      <th>3</th>\n",
       "      <td>3</td>\n",
       "      <td>Hernandez High School</td>\n",
       "      <td>District</td>\n",
       "      <td>4635</td>\n",
       "      <td>3022020</td>\n",
       "    </tr>\n",
       "    <tr>\n",
       "      <th>4</th>\n",
       "      <td>4</td>\n",
       "      <td>Griffin High School</td>\n",
       "      <td>Charter</td>\n",
       "      <td>1468</td>\n",
       "      <td>917500</td>\n",
       "    </tr>\n",
       "  </tbody>\n",
       "</table>\n",
       "</div>"
      ],
      "text/plain": [
       "   School ID            school_name      type  size   budget\n",
       "0          0      Huang High School  District  2917  1910635\n",
       "1          1   Figueroa High School  District  2949  1884411\n",
       "2          2    Shelton High School   Charter  1761  1056600\n",
       "3          3  Hernandez High School  District  4635  3022020\n",
       "4          4    Griffin High School   Charter  1468   917500"
      ]
     },
     "execution_count": 17,
     "metadata": {},
     "output_type": "execute_result"
    }
   ],
   "source": [
    "# read csv in python:panda\n",
    "\n",
    "import os\n",
    "import pandas as pd\n",
    "\n",
    "schools_data = os.path.join(\"Resources\", \"schools_complete.csv\")\n",
    "students_data = os.path.join(\"Resources\", \"students_complete.csv\")\n",
    "\n",
    "schools_df = pd.read_csv(schools_data)\n",
    "students_df = pd.read_csv(students_data)\n",
    "\n",
    "schools_df.head()\n",
    "students_df.head()\n",
    "\n",
    "#Push practice code to GitHub\n"
   ]
  },
  {
   "cell_type": "code",
   "execution_count": 19,
   "id": "5bdd2ffd",
   "metadata": {},
   "outputs": [
    {
     "data": {
      "text/plain": [
       "School ID      15\n",
       "school_name    15\n",
       "type           15\n",
       "size           15\n",
       "budget         15\n",
       "dtype: int64"
      ]
     },
     "execution_count": 19,
     "metadata": {},
     "output_type": "execute_result"
    }
   ],
   "source": [
    "# Check for missing data\n",
    "\n",
    "import os\n",
    "import pandas as pd\n",
    "\n",
    "schools_data = os.path.join(\"Resources\", \"schools_complete.csv\")\n",
    "students_data = os.path.join(\"Resources\", \"students_complete.csv\")\n",
    "\n",
    "schools_df = pd.read_csv(schools_data)\n",
    "students_df = pd.read_csv(students_data)\n",
    "\n",
    "students_df.count()\n",
    "schools_df.count()"
   ]
  },
  {
   "cell_type": "code",
   "execution_count": null,
   "id": "6d3cdbc6",
   "metadata": {},
   "outputs": [],
   "source": [
    "# Missing Data Handelling\n",
    "\n",
    "import os\n",
    "import pandas as pd\n",
    "\n",
    "schools_data = os.path.join(\"Resources\", \"schools_complete.csv\")\n",
    "students_data = os.path.join(\"Resources\", \"students_complete.csv\")\n",
    "missing_data = os.path.join(\"Resources\", \"missing_grades.csv\")\n",
    "\n",
    "schools_df = pd.read_csv(schools_data)\n",
    "students_df = pd.read_csv(students_data)\n",
    "missing_df = pd.read_csv(missing_data)\n",
    "\n"
   ]
  }
 ],
 "metadata": {
  "kernelspec": {
   "display_name": "PythonData",
   "language": "python",
   "name": "pythondata"
  },
  "language_info": {
   "codemirror_mode": {
    "name": "ipython",
    "version": 3
   },
   "file_extension": ".py",
   "mimetype": "text/x-python",
   "name": "python",
   "nbconvert_exporter": "python",
   "pygments_lexer": "ipython3",
   "version": "3.7.13"
  }
 },
 "nbformat": 4,
 "nbformat_minor": 5
}
